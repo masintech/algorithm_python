{
 "cells": [
  {
   "cell_type": "markdown",
   "metadata": {},
   "source": [
    "# String Permutation\n",
    "# Problem Statement\n",
    "Given a string, write a function that uses recursion to output a list of all the possible permutations of that string.\n",
    "\n",
    "For example, given s='abc' the function should return ['abc', 'acb', 'bac', 'bca', 'cab', 'cba']\n",
    "\n",
    "Note: If a character is repeated, treat each occurence as distinct, for example an input of 'xxx' would return a list with 6 \"versions\" of 'xxx'\n",
    "\n",
    "# Fill Out Your Solution Below\n",
    "Let's think about what the steps we need to take here are:"
   ]
  },
  {
   "cell_type": "code",
   "execution_count": 56,
   "metadata": {},
   "outputs": [],
   "source": [
    "def permute(s):\n",
    "    out = []\n",
    "    \n",
    "    # Base Case\n",
    "    if len(s) == 1:\n",
    "        out = [s]\n",
    "#         print(\"\\n out: {} \\n\".format(out))\n",
    "    else:\n",
    "        # For every letter in string\n",
    "        for i, let in enumerate(s):\n",
    "#             print(\"i: {}, let: {}\".format(i,let))\n",
    "#             print(\"\\n\")\n",
    "            # For every permutation resulting from Step 2 and 3 described above\n",
    "            for perm in permute(s[:i] + s[i+1:]):\n",
    "#                 print(\"perm: {}\".format(perm))\n",
    "#                 print('Current letter is: {}'.format(let))\n",
    "#                 print('perm is {}'.format(perm))\n",
    "                # Add it to output\n",
    "                out += [let + perm]\n",
    "#                 print(\"\\nout+= [let+perm] : {}\\n\".format(out))\n",
    "    return out"
   ]
  },
  {
   "cell_type": "code",
   "execution_count": 71,
   "metadata": {},
   "outputs": [
    {
     "name": "stdout",
     "output_type": "stream",
     "text": [
      "0 a\n",
      "\n",
      "\n",
      "bc\n",
      "\n",
      "\n",
      "1 b\n",
      "\n",
      "\n",
      "ac\n",
      "\n",
      "\n",
      "2 c\n",
      "\n",
      "\n",
      "ab\n",
      "\n",
      "\n"
     ]
    }
   ],
   "source": [
    "s='abc'\n",
    "for i,let in enumerate(s):\n",
    "        print(i, let)\n",
    "        print('\\n')\n",
    "       \n",
    "        print(s[:i] + s[i+1:])\n",
    "        print('\\n')\n",
    "        "
   ]
  },
  {
   "cell_type": "code",
   "execution_count": 65,
   "metadata": {},
   "outputs": [
    {
     "data": {
      "text/plain": [
       "'ab'"
      ]
     },
     "execution_count": 65,
     "metadata": {},
     "output_type": "execute_result"
    }
   ],
   "source": [
    "s[:2]"
   ]
  },
  {
   "cell_type": "code",
   "execution_count": 57,
   "metadata": {},
   "outputs": [
    {
     "data": {
      "text/plain": [
       "['abc', 'acb', 'bac', 'bca', 'cab', 'cba']"
      ]
     },
     "execution_count": 57,
     "metadata": {},
     "output_type": "execute_result"
    }
   ],
   "source": [
    "permute('abc')\n"
   ]
  },
  {
   "cell_type": "markdown",
   "metadata": {},
   "source": [
    "# Test Your Solution¶\n"
   ]
  },
  {
   "cell_type": "code",
   "execution_count": 58,
   "metadata": {},
   "outputs": [
    {
     "name": "stdout",
     "output_type": "stream",
     "text": [
      "All test cases passed.\n"
     ]
    }
   ],
   "source": [
    "\"\"\"\n",
    "RUN THIS CELL TO TEST YOUR SOLUTION.\n",
    "\"\"\"\n",
    "\n",
    "from nose.tools import assert_equal\n",
    "\n",
    "class TestPerm(object):\n",
    "    \n",
    "    def test(self,solution):\n",
    "        \n",
    "        assert_equal(sorted(solution('abc')),sorted(['abc', 'acb', 'bac', 'bca', 'cab', 'cba']))\n",
    "        assert_equal(sorted(solution('dog')),sorted(['dog', 'dgo', 'odg', 'ogd', 'gdo', 'god']) )\n",
    "        \n",
    "        print ('All test cases passed.')\n",
    "        \n",
    "\n",
    "\n",
    "# Run Tests\n",
    "t = TestPerm()\n",
    "t.test(permute)"
   ]
  }
 ],
 "metadata": {
  "kernelspec": {
   "display_name": "Python 3",
   "language": "python",
   "name": "python3"
  },
  "language_info": {
   "codemirror_mode": {
    "name": "ipython",
    "version": 3
   },
   "file_extension": ".py",
   "mimetype": "text/x-python",
   "name": "python",
   "nbconvert_exporter": "python",
   "pygments_lexer": "ipython3",
   "version": "3.7.1"
  }
 },
 "nbformat": 4,
 "nbformat_minor": 2
}
