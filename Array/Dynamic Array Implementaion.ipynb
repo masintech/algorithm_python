{
 "cells": [
  {
   "cell_type": "code",
   "execution_count": 45,
   "metadata": {},
   "outputs": [],
   "source": [
    "import ctypes\n",
    "import sys\n",
    "class DynamicArray(object):\n",
    "    \n",
    "    def __init__(self):\n",
    "        \n",
    "        self.n = 0\n",
    "        self.capacity = 1\n",
    "        self.A = self.make_array(self.capacity)\n",
    "        \n",
    "    def __len__(self):\n",
    "        return self.n\n",
    "    \n",
    "    def __getitem__(self,k):\n",
    "        \n",
    "        if not 0 <= k <= self.n:\n",
    "            return IndexError('K is out of bounds!')\n",
    "        return self.A[k]\n",
    "    \n",
    "    def append(self, ele):\n",
    "        \n",
    "        if self.n == self.capacity:\n",
    "            self._resize(2*2*self.capacity) # 2x if capacity isn't enough\n",
    "        \n",
    "        self.A[self.n] = ele\n",
    "        self.n += 1\n",
    "        \n",
    "    def _resize(self,new_cap):\n",
    "        \n",
    "        B = self.make_array(new_cap)\n",
    "        \n",
    "        for k in range(self.n):\n",
    "            B[k] = self.A[k]\n",
    "        \n",
    "        self.A = B\n",
    "        self.capacity = new_cap\n",
    "    \n",
    "    def make_array(self, new_cap):\n",
    "        \n",
    "        return (new_cap*ctypes.py_object)()\n",
    "    \n",
    "    def get_size_sys(self):\n",
    "        return sys.getsizeof(self.A)\n",
    "    def get_size_ctype(self):\n",
    "        return ctypes.sizeof(self.A)\n"
   ]
  },
  {
   "cell_type": "code",
   "execution_count": 75,
   "metadata": {
    "scrolled": true
   },
   "outputs": [
    {
     "name": "stdout",
     "output_type": "stream",
     "text": [
      "length:   1; size in bytes:  136, size in bytes(ctype):   8\n",
      "length:   2; size in bytes:  136, size in bytes(ctype):  32\n",
      "length:   3; size in bytes:  136, size in bytes(ctype):  32\n",
      "length:   4; size in bytes:  136, size in bytes(ctype):  32\n",
      "length:   5; size in bytes:  136, size in bytes(ctype): 128\n",
      "length:   6; size in bytes:  136, size in bytes(ctype): 128\n",
      "length:   7; size in bytes:  136, size in bytes(ctype): 128\n",
      "length:   8; size in bytes:  136, size in bytes(ctype): 128\n",
      "length:   9; size in bytes:  136, size in bytes(ctype): 128\n",
      "length:  10; size in bytes:  136, size in bytes(ctype): 128\n",
      "length:  11; size in bytes:  136, size in bytes(ctype): 128\n",
      "length:  12; size in bytes:  136, size in bytes(ctype): 128\n",
      "length:  13; size in bytes:  136, size in bytes(ctype): 128\n",
      "length:  14; size in bytes:  136, size in bytes(ctype): 128\n",
      "length:  15; size in bytes:  136, size in bytes(ctype): 128\n",
      "length:  16; size in bytes:  136, size in bytes(ctype): 128\n",
      "length:  17; size in bytes:  136, size in bytes(ctype): 512\n",
      "length:  18; size in bytes:  136, size in bytes(ctype): 512\n",
      "length:  19; size in bytes:  136, size in bytes(ctype): 512\n",
      "length:  20; size in bytes:  136, size in bytes(ctype): 512\n"
     ]
    }
   ],
   "source": [
    "arr=DynamicArray()\n",
    "for i in range(20):\n",
    "    arr.append(i)\n",
    "    length = len(arr)\n",
    "    a = arr.get_size_ctype()\n",
    "    b = arr.get_size_sys()\n",
    "    print(\"length: {:3d}; size in bytes: {:4d}, size in bytes(ctype):{:4d}\".format(length, b,a))"
   ]
  },
  {
   "cell_type": "code",
   "execution_count": null,
   "metadata": {},
   "outputs": [],
   "source": []
  }
 ],
 "metadata": {
  "kernelspec": {
   "display_name": "Python 3",
   "language": "python",
   "name": "python3"
  },
  "language_info": {
   "codemirror_mode": {
    "name": "ipython",
    "version": 3
   },
   "file_extension": ".py",
   "mimetype": "text/x-python",
   "name": "python",
   "nbconvert_exporter": "python",
   "pygments_lexer": "ipython3",
   "version": "3.7.1"
  }
 },
 "nbformat": 4,
 "nbformat_minor": 2
}
