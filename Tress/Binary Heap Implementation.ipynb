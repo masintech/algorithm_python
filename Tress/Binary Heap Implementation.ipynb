{
 "cells": [
  {
   "cell_type": "markdown",
   "metadata": {},
   "source": [
    "# Binary Heap Operations\n",
    "# The basic operations we will implement for our binary heap are as follows:\n",
    "\n",
    "<li> BinaryHeap() creates a new, empty, binary heap.</li>\n",
    "<li> Binsert(k) adds a new item to the heap.</li>\n",
    "<li> BfindMin() returns the item with the minimum key value, leaving item in the heap.</li>\n",
    "<li> BdelMin() returns the item with the minimum key value, removing the item from the heap</li>\n",
    "<li> BisEmpty() returns true if the heap is empty, false otherwise.</li>\n",
    "<li> Bsize() returns the number of items in the heap.</li>\n",
    "<li> BbuildHeap(list) builds a new heap from a list of keys.</li>"
   ]
  },
  {
   "cell_type": "code",
   "execution_count": 6,
   "metadata": {},
   "outputs": [],
   "source": [
    "class BinHeap():\n",
    "    \n",
    "    def __init__(self):\n",
    "        self.heapList = [0]\n",
    "        self.currentSize = 0\n",
    "        \n",
    "    def percUp(self, i):\n",
    "        \n",
    "        while i//2 >0:\n",
    "            if self.heapList[i]< self.heapList[i//2]:\n",
    "                tmp = self.heapList[i//2]\n",
    "                self.heapList[ i //2 ] = self.heapList[i]\n",
    "                self.heapList [i] = tmp\n",
    "            i = i //2\n",
    "    \n",
    "    def insert(self, k ):\n",
    "        self.heapList.append(k)\n",
    "        self.currentSize = self.currentSize +1\n",
    "        self.percUp(self.currentSize)\n",
    "    \n",
    "    def percDown(self,i):\n",
    "        \n",
    "        while( i *2 ) <= self.currentSize:\n",
    "            \n",
    "            mc = slef.minChild(i)\n",
    "            if self.heapList[i] > self.heapList[mc]:\n",
    "                \n",
    "                tmp = self.heapList[i]\n",
    "                self.heapList[i] = self.heapList[mc]\n",
    "                self.heapList[mc] = tmp\n",
    "            i = mc\n",
    "            \n",
    "    def minChild(self, i):\n",
    "        \n",
    "        if i *2 +1 > self.currentSize:\n",
    "            \n",
    "            return i * 2\n",
    "        else:\n",
    "            \n",
    "            if self.heapList[i*2] < self.heapList[i*2+1]:\n",
    "                return i *2\n",
    "            else:\n",
    "                return i *2 +1\n",
    "    \n",
    "    def delMin(self):\n",
    "        retval = self.healListp[i]\n",
    "        self.heapListp[1] = self.heapList[self.currentSize]\n",
    "        self.currentSize = self.currentSize -1\n",
    "        self.heapList.pop()\n",
    "        self.percDown(1)\n",
    "        return retval"
   ]
  },
  {
   "cell_type": "code",
   "execution_count": 8,
   "metadata": {},
   "outputs": [
    {
     "data": {
      "text/plain": [
       "[0, 5, 12, 6, 30, 15, 20]"
      ]
     },
     "execution_count": 8,
     "metadata": {},
     "output_type": "execute_result"
    }
   ],
   "source": [
    "a = [30,20,15,5,12,6]\n",
    "h = BinHeap()\n",
    "for ele in a:\n",
    "    h.insert(ele)\n",
    "h.heapList"
   ]
  },
  {
   "cell_type": "code",
   "execution_count": null,
   "metadata": {},
   "outputs": [],
   "source": []
  }
 ],
 "metadata": {
  "celltoolbar": "Raw Cell Format",
  "kernelspec": {
   "display_name": "Python 3",
   "language": "python",
   "name": "python3"
  },
  "language_info": {
   "codemirror_mode": {
    "name": "ipython",
    "version": 3
   },
   "file_extension": ".py",
   "mimetype": "text/x-python",
   "name": "python",
   "nbconvert_exporter": "python",
   "pygments_lexer": "ipython3",
   "version": "3.7.1"
  }
 },
 "nbformat": 4,
 "nbformat_minor": 2
}
